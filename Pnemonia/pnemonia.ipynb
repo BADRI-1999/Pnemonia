{
 "cells": [
  {
   "cell_type": "code",
   "execution_count": 65,
   "metadata": {
    "colab": {
     "base_uri": "https://localhost:8080/"
    },
    "executionInfo": {
     "elapsed": 2283,
     "status": "ok",
     "timestamp": 1648063629209,
     "user": {
      "displayName": "BADRI SYAM SIVA KUMAR BADRI SYAM SIVA KUMAR",
      "photoUrl": "https://lh3.googleusercontent.com/a-/AOh14GgEJDSNy8_0YWmLBLxbQqj7tJlbl-pMNNqOCiZueA=s64",
      "userId": "00051195894396766943"
     },
     "user_tz": -330
    },
    "id": "MH7BdgFx-iK5",
    "outputId": "7e22abf6-0989-415b-860c-543adaa9f890"
   },
   "outputs": [
    {
     "name": "stdout",
     "output_type": "stream",
     "text": [
      "Drive already mounted at /content/gdrive; to attempt to forcibly remount, call drive.mount(\"/content/gdrive\", force_remount=True).\n"
     ]
    }
   ],
   "source": [
    "from google.colab import drive\n",
    "drive.mount('/content/gdrive')"
   ]
  },
  {
   "cell_type": "code",
   "execution_count": 7,
   "metadata": {},
   "outputs": [
    {
     "name": "stdout",
     "output_type": "stream",
     "text": [
      "Collecting keras\n",
      "  Downloading keras-2.8.0-py2.py3-none-any.whl (1.4 MB)\n",
      "Installing collected packages: keras\n",
      "Successfully installed keras-2.8.0\n"
     ]
    }
   ],
   "source": [
    "!pip install keras"
   ]
  },
  {
   "cell_type": "code",
   "execution_count": 4,
   "metadata": {},
   "outputs": [
    {
     "name": "stdout",
     "output_type": "stream",
     "text": [
      "Requirement already satisfied: tensorflow in c:\\users\\badri\\anaconda3\\envs\\pnemonia\\lib\\site-packages (1.15.0)"
     ]
    },
    {
     "name": "stderr",
     "output_type": "stream",
     "text": [
      "  WARNING: The script tensorboard.exe is installed in 'C:\\Users\\badri\\AppData\\Roaming\\Python\\Python36\\Scripts' which is not on PATH.\n",
      "  Consider adding this directory to PATH or, if you prefer to suppress this warning, use --no-warn-script-location.\n",
      "  WARNING: The scripts estimator_ckpt_converter.exe, import_pb_to_tensorboard.exe, saved_model_cli.exe, tensorboard.exe, tf_upgrade_v2.exe, tflite_convert.exe, toco.exe and toco_from_protos.exe are installed in 'C:\\Users\\badri\\AppData\\Roaming\\Python\\Python36\\Scripts' which is not on PATH.\n",
      "  Consider adding this directory to PATH or, if you prefer to suppress this warning, use --no-warn-script-location.\n"
     ]
    },
    {
     "name": "stdout",
     "output_type": "stream",
     "text": [
      "\n",
      "Collecting tensorflow\n",
      "  Using cached tensorflow-2.6.2-cp36-cp36m-win_amd64.whl (423.3 MB)\n",
      "Collecting astunparse~=1.6.3\n",
      "  Using cached astunparse-1.6.3-py2.py3-none-any.whl (12 kB)\n",
      "Requirement already satisfied: wrapt~=1.12.1 in c:\\users\\badri\\anaconda3\\envs\\pnemonia\\lib\\site-packages (from tensorflow) (1.12.1)\n",
      "Collecting keras<2.7,>=2.6.0\n",
      "  Using cached keras-2.6.0-py2.py3-none-any.whl (1.3 MB)\n",
      "Requirement already satisfied: termcolor~=1.1.0 in c:\\users\\badri\\anaconda3\\envs\\pnemonia\\lib\\site-packages (from tensorflow) (1.1.0)\n",
      "Collecting clang~=5.0\n",
      "  Using cached clang-5.0-py3-none-any.whl\n",
      "Requirement already satisfied: wheel~=0.35 in c:\\users\\badri\\anaconda3\\envs\\pnemonia\\lib\\site-packages (from tensorflow) (0.37.1)\n",
      "Requirement already satisfied: absl-py~=0.10 in c:\\users\\badri\\anaconda3\\envs\\pnemonia\\lib\\site-packages (from tensorflow) (0.15.0)\n",
      "Collecting tensorflow-estimator<2.7,>=2.6.0\n",
      "  Using cached tensorflow_estimator-2.6.0-py2.py3-none-any.whl (462 kB)\n",
      "Collecting gast==0.4.0\n",
      "  Using cached gast-0.4.0-py3-none-any.whl (9.8 kB)\n",
      "Requirement already satisfied: keras-preprocessing~=1.1.2 in c:\\users\\badri\\anaconda3\\envs\\pnemonia\\lib\\site-packages (from tensorflow) (1.1.2)\n",
      "Requirement already satisfied: opt-einsum~=3.3.0 in c:\\users\\badri\\anaconda3\\envs\\pnemonia\\lib\\site-packages (from tensorflow) (3.3.0)\n",
      "Requirement already satisfied: protobuf>=3.9.2 in c:\\users\\badri\\anaconda3\\envs\\pnemonia\\lib\\site-packages (from tensorflow) (3.19.1)\n",
      "Collecting tensorboard<2.7,>=2.6.0\n",
      "  Using cached tensorboard-2.6.0-py3-none-any.whl (5.6 MB)\n",
      "Requirement already satisfied: six~=1.15.0 in c:\\users\\badri\\anaconda3\\envs\\pnemonia\\lib\\site-packages (from tensorflow) (1.15.0)\n",
      "Requirement already satisfied: typing-extensions~=3.7.4 in c:\\users\\badri\\anaconda3\\envs\\pnemonia\\lib\\site-packages (from tensorflow) (3.7.4.3)\n",
      "Collecting flatbuffers~=1.12.0\n",
      "  Using cached flatbuffers-1.12-py2.py3-none-any.whl (15 kB)\n",
      "Requirement already satisfied: grpcio<2.0,>=1.37.0 in c:\\users\\badri\\anaconda3\\envs\\pnemonia\\lib\\site-packages (from tensorflow) (1.42.0)\n",
      "Requirement already satisfied: numpy~=1.19.2 in c:\\users\\badri\\anaconda3\\envs\\pnemonia\\lib\\site-packages (from tensorflow) (1.19.5)\n",
      "Requirement already satisfied: google-pasta~=0.2 in c:\\users\\badri\\anaconda3\\envs\\pnemonia\\lib\\site-packages (from tensorflow) (0.2.0)\n",
      "Requirement already satisfied: h5py~=3.1.0 in c:\\users\\badri\\anaconda3\\envs\\pnemonia\\lib\\site-packages (from tensorflow) (3.1.0)\n",
      "Requirement already satisfied: cached-property in c:\\users\\badri\\anaconda3\\envs\\pnemonia\\lib\\site-packages (from h5py~=3.1.0->tensorflow) (1.5.2)\n",
      "Requirement already satisfied: requests<3,>=2.21.0 in c:\\users\\badri\\anaconda3\\envs\\pnemonia\\lib\\site-packages (from tensorboard<2.7,>=2.6.0->tensorflow) (2.27.1)\n",
      "Requirement already satisfied: markdown>=2.6.8 in c:\\users\\badri\\anaconda3\\envs\\pnemonia\\lib\\site-packages (from tensorboard<2.7,>=2.6.0->tensorflow) (3.3.6)\n",
      "Requirement already satisfied: google-auth<2,>=1.6.3 in c:\\users\\badri\\anaconda3\\envs\\pnemonia\\lib\\site-packages (from tensorboard<2.7,>=2.6.0->tensorflow) (1.35.0)\n",
      "Requirement already satisfied: google-auth-oauthlib<0.5,>=0.4.1 in c:\\users\\badri\\anaconda3\\envs\\pnemonia\\lib\\site-packages (from tensorboard<2.7,>=2.6.0->tensorflow) (0.4.6)\n",
      "Requirement already satisfied: setuptools>=41.0.0 in c:\\users\\badri\\anaconda3\\envs\\pnemonia\\lib\\site-packages (from tensorboard<2.7,>=2.6.0->tensorflow) (58.0.4)\n",
      "Requirement already satisfied: tensorboard-plugin-wit>=1.6.0 in c:\\users\\badri\\anaconda3\\envs\\pnemonia\\lib\\site-packages (from tensorboard<2.7,>=2.6.0->tensorflow) (1.8.1)\n",
      "Requirement already satisfied: werkzeug>=0.11.15 in c:\\users\\badri\\anaconda3\\envs\\pnemonia\\lib\\site-packages (from tensorboard<2.7,>=2.6.0->tensorflow) (2.0.2)\n",
      "Requirement already satisfied: tensorboard-data-server<0.7.0,>=0.6.0 in c:\\users\\badri\\anaconda3\\envs\\pnemonia\\lib\\site-packages (from tensorboard<2.7,>=2.6.0->tensorflow) (0.6.1)\n",
      "Requirement already satisfied: pyasn1-modules>=0.2.1 in c:\\users\\badri\\anaconda3\\envs\\pnemonia\\lib\\site-packages (from google-auth<2,>=1.6.3->tensorboard<2.7,>=2.6.0->tensorflow) (0.2.8)\n",
      "Requirement already satisfied: cachetools<5.0,>=2.0.0 in c:\\users\\badri\\anaconda3\\envs\\pnemonia\\lib\\site-packages (from google-auth<2,>=1.6.3->tensorboard<2.7,>=2.6.0->tensorflow) (4.2.4)\n",
      "Requirement already satisfied: rsa<5,>=3.1.4 in c:\\users\\badri\\anaconda3\\envs\\pnemonia\\lib\\site-packages (from google-auth<2,>=1.6.3->tensorboard<2.7,>=2.6.0->tensorflow) (4.8)\n",
      "Requirement already satisfied: requests-oauthlib>=0.7.0 in c:\\users\\badri\\anaconda3\\envs\\pnemonia\\lib\\site-packages (from google-auth-oauthlib<0.5,>=0.4.1->tensorboard<2.7,>=2.6.0->tensorflow) (1.3.1)\n",
      "Requirement already satisfied: importlib-metadata>=4.4 in c:\\users\\badri\\anaconda3\\envs\\pnemonia\\lib\\site-packages (from markdown>=2.6.8->tensorboard<2.7,>=2.6.0->tensorflow) (4.8.2)\n",
      "Requirement already satisfied: zipp>=0.5 in c:\\users\\badri\\anaconda3\\envs\\pnemonia\\lib\\site-packages (from importlib-metadata>=4.4->markdown>=2.6.8->tensorboard<2.7,>=2.6.0->tensorflow) (3.6.0)\n",
      "Requirement already satisfied: pyasn1<0.5.0,>=0.4.6 in c:\\users\\badri\\anaconda3\\envs\\pnemonia\\lib\\site-packages (from pyasn1-modules>=0.2.1->google-auth<2,>=1.6.3->tensorboard<2.7,>=2.6.0->tensorflow) (0.4.8)\n",
      "Requirement already satisfied: idna<4,>=2.5 in c:\\users\\badri\\anaconda3\\envs\\pnemonia\\lib\\site-packages (from requests<3,>=2.21.0->tensorboard<2.7,>=2.6.0->tensorflow) (3.3)\n",
      "Requirement already satisfied: certifi>=2017.4.17 in c:\\users\\badri\\anaconda3\\envs\\pnemonia\\lib\\site-packages (from requests<3,>=2.21.0->tensorboard<2.7,>=2.6.0->tensorflow) (2020.6.20)\n",
      "Requirement already satisfied: charset-normalizer~=2.0.0 in c:\\users\\badri\\anaconda3\\envs\\pnemonia\\lib\\site-packages (from requests<3,>=2.21.0->tensorboard<2.7,>=2.6.0->tensorflow) (2.0.12)\n",
      "Requirement already satisfied: urllib3<1.27,>=1.21.1 in c:\\users\\badri\\anaconda3\\envs\\pnemonia\\lib\\site-packages (from requests<3,>=2.21.0->tensorboard<2.7,>=2.6.0->tensorflow) (1.26.9)\n",
      "Requirement already satisfied: oauthlib>=3.0.0 in c:\\users\\badri\\anaconda3\\envs\\pnemonia\\lib\\site-packages (from requests-oauthlib>=0.7.0->google-auth-oauthlib<0.5,>=0.4.1->tensorboard<2.7,>=2.6.0->tensorflow) (3.2.0)\n",
      "Requirement already satisfied: dataclasses in c:\\users\\badri\\anaconda3\\envs\\pnemonia\\lib\\site-packages (from werkzeug>=0.11.15->tensorboard<2.7,>=2.6.0->tensorflow) (0.8)\n",
      "Installing collected packages: tensorflow-estimator, tensorboard, keras, gast, flatbuffers, clang, astunparse, tensorflow\n",
      "Successfully installed astunparse-1.6.3 clang-5.0 flatbuffers-1.12 gast-0.4.0 keras-2.6.0 tensorboard-2.6.0 tensorflow-2.6.2 tensorflow-estimator-2.6.0\n"
     ]
    }
   ],
   "source": [
    "!pip install --upgrade tensorflow --user\n",
    "#pip install --upgrade tensorflow-gpu"
   ]
  },
  {
   "cell_type": "code",
   "execution_count": 1,
   "metadata": {
    "executionInfo": {
     "elapsed": 3,
     "status": "ok",
     "timestamp": 1648067527584,
     "user": {
      "displayName": "BADRI SYAM SIVA KUMAR BADRI SYAM SIVA KUMAR",
      "photoUrl": "https://lh3.googleusercontent.com/a-/AOh14GgEJDSNy8_0YWmLBLxbQqj7tJlbl-pMNNqOCiZueA=s64",
      "userId": "00051195894396766943"
     },
     "user_tz": -330
    },
    "id": "9sRPLhhJILDJ"
   },
   "outputs": [],
   "source": [
    "import tensorflow as tf\n",
    "from tensorflow import keras \n",
    "import os\n",
    "import numpy as np\n",
    "import os\n",
    "import numpy as np\n"
   ]
  },
  {
   "cell_type": "code",
   "execution_count": 2,
   "metadata": {
    "executionInfo": {
     "elapsed": 1486,
     "status": "ok",
     "timestamp": 1648067533663,
     "user": {
      "displayName": "BADRI SYAM SIVA KUMAR BADRI SYAM SIVA KUMAR",
      "photoUrl": "https://lh3.googleusercontent.com/a-/AOh14GgEJDSNy8_0YWmLBLxbQqj7tJlbl-pMNNqOCiZueA=s64",
      "userId": "00051195894396766943"
     },
     "user_tz": -330
    },
    "id": "O9jYCIu7Oy-g"
   },
   "outputs": [],
   "source": [
    "import cv2"
   ]
  },
  {
   "cell_type": "code",
   "execution_count": 3,
   "metadata": {
    "executionInfo": {
     "elapsed": 13,
     "status": "ok",
     "timestamp": 1648067535183,
     "user": {
      "displayName": "BADRI SYAM SIVA KUMAR BADRI SYAM SIVA KUMAR",
      "photoUrl": "https://lh3.googleusercontent.com/a-/AOh14GgEJDSNy8_0YWmLBLxbQqj7tJlbl-pMNNqOCiZueA=s64",
      "userId": "00051195894396766943"
     },
     "user_tz": -330
    },
    "id": "rFpYUkVyAZHJ"
   },
   "outputs": [],
   "source": [
    "images=[]\n",
    "labels =[]"
   ]
  },
  {
   "cell_type": "code",
   "execution_count": 8,
   "metadata": {
    "colab": {
     "base_uri": "https://localhost:8080/"
    },
    "executionInfo": {
     "elapsed": 13,
     "status": "ok",
     "timestamp": 1648067535184,
     "user": {
      "displayName": "BADRI SYAM SIVA KUMAR BADRI SYAM SIVA KUMAR",
      "photoUrl": "https://lh3.googleusercontent.com/a-/AOh14GgEJDSNy8_0YWmLBLxbQqj7tJlbl-pMNNqOCiZueA=s64",
      "userId": "00051195894396766943"
     },
     "user_tz": -330
    },
    "id": "zmpEPXg-ILDd",
    "outputId": "f6ed9aef-d7aa-4962-855e-21196086d097"
   },
   "outputs": [],
   "source": [
    "classes=os.listdir('train/PNEUMONIA')\n"
   ]
  },
  {
   "cell_type": "code",
   "execution_count": 59,
   "metadata": {
    "executionInfo": {
     "elapsed": 6,
     "status": "ok",
     "timestamp": 1648067539598,
     "user": {
      "displayName": "BADRI SYAM SIVA KUMAR BADRI SYAM SIVA KUMAR",
      "photoUrl": "https://lh3.googleusercontent.com/a-/AOh14GgEJDSNy8_0YWmLBLxbQqj7tJlbl-pMNNqOCiZueA=s64",
      "userId": "00051195894396766943"
     },
     "user_tz": -330
    },
    "id": "UtUtj-ShFuVe"
   },
   "outputs": [],
   "source": [
    "val_images=[]\n",
    "val_labels=[]"
   ]
  },
  {
   "cell_type": "code",
   "execution_count": null,
   "metadata": {
    "colab": {
     "base_uri": "https://localhost:8080/",
     "height": 408
    },
    "executionInfo": {
     "elapsed": 419,
     "status": "error",
     "timestamp": 1648067779944,
     "user": {
      "displayName": "BADRI SYAM SIVA KUMAR BADRI SYAM SIVA KUMAR",
      "photoUrl": "https://lh3.googleusercontent.com/a-/AOh14GgEJDSNy8_0YWmLBLxbQqj7tJlbl-pMNNqOCiZueA=s64",
      "userId": "00051195894396766943"
     },
     "user_tz": -330
    },
    "id": "oMgdVSDRAEGn",
    "outputId": "28caa71e-8029-4bab-aa59-7a9fffa1cdc5"
   },
   "outputs": [],
   "source": [
    "y,n = 1,0\n",
    "dim=(150,150)\n",
    "for i in classes:\n",
    "    print('train/PNEUMONIA/'+i)\n",
    "    #cv2.imshow('train/PNEUMONIA/'+classes[i])\n",
    "    img = cv2.imread('train/PNEUMONIA/'+i)\n",
    "    #print(img)\n",
    "    #print(img) \n",
    "  # print(path) \n",
    "    img1 = cv2.resize(img,dim)\n",
    "    images.append(img1)\n",
    "    labels.append(y)"
   ]
  },
  {
   "cell_type": "code",
   "execution_count": null,
   "metadata": {
    "colab": {
     "base_uri": "https://localhost:8080/"
    },
    "executionInfo": {
     "elapsed": 373,
     "status": "ok",
     "timestamp": 1648062826452,
     "user": {
      "displayName": "BADRI SYAM SIVA KUMAR BADRI SYAM SIVA KUMAR",
      "photoUrl": "https://lh3.googleusercontent.com/a-/AOh14GgEJDSNy8_0YWmLBLxbQqj7tJlbl-pMNNqOCiZueA=s64",
      "userId": "00051195894396766943"
     },
     "user_tz": -330
    },
    "id": "nTWxaybUE2Rq",
    "outputId": "966f3865-dd52-4acb-cf10-7e42115e78e2"
   },
   "outputs": [],
   "source": []
  },
  {
   "cell_type": "code",
   "execution_count": 11,
   "metadata": {},
   "outputs": [],
   "source": [
    "x = os.listdir('train/NORMAL')"
   ]
  },
  {
   "cell_type": "code",
   "execution_count": 132,
   "metadata": {},
   "outputs": [
    {
     "name": "stdout",
     "output_type": "stream",
     "text": [
      "Initialised with 1341 image(s) found.\n",
      "Output directory set to train/NORMAL\\output."
     ]
    }
   ],
   "source": [
    "p = Augmentor.Pipeline('train/NORMAL')"
   ]
  },
  {
   "cell_type": "code",
   "execution_count": 140,
   "metadata": {},
   "outputs": [
    {
     "data": {
      "text/plain": [
       "<Augmentor.Pipeline.Pipeline at 0x22cd4163358>"
      ]
     },
     "execution_count": 140,
     "metadata": {},
     "output_type": "execute_result"
    }
   ],
   "source": [
    "p"
   ]
  },
  {
   "cell_type": "code",
   "execution_count": 10,
   "metadata": {},
   "outputs": [],
   "source": [
    "dim=(150,150)"
   ]
  },
  {
   "cell_type": "code",
   "execution_count": 13,
   "metadata": {},
   "outputs": [],
   "source": [
    "for i in x:\n",
    "    while labels.count(0) < labels.count(1):\n",
    "        img = cv2.imread('train/NORMAL/'+i)\n",
    "        im_read = cv2.rotate(img, cv2.cv2.ROTATE_90_CLOCKWISE)\n",
    "        im_read_2=cv2.rotate(img, cv2.ROTATE_90_COUNTERCLOCKWISE)\n",
    "        im_read1=image = cv2.flip(img, 1)\n",
    "        img1 = cv2.resize(im_read,dim)\n",
    "        images.append(img1)\n",
    "        labels.append(0)\n",
    "        \n",
    "        img2 = cv2.resize(im_read_2,dim)\n",
    "        images.append(img2)\n",
    "        labels.append(0)\n",
    "        img3 = cv2.resize(im_read1,dim)\n",
    "        \n",
    "        images.append(img3)\n",
    "        labels.append(0)\n",
    "        \n",
    "        \n",
    "        "
   ]
  },
  {
   "cell_type": "code",
   "execution_count": 129,
   "metadata": {},
   "outputs": [
    {
     "data": {
      "text/plain": [
       "True"
      ]
     },
     "execution_count": 129,
     "metadata": {},
     "output_type": "execute_result"
    }
   ],
   "source": [
    "labels.count(0) != labels.count(1)"
   ]
  },
  {
   "cell_type": "code",
   "execution_count": 14,
   "metadata": {},
   "outputs": [
    {
     "name": "stdout",
     "output_type": "stream",
     "text": [
      "3876 3875\n"
     ]
    }
   ],
   "source": [
    "print(labels.count(0), labels.count(1))"
   ]
  },
  {
   "cell_type": "code",
   "execution_count": 16,
   "metadata": {},
   "outputs": [
    {
     "data": {
      "text/plain": [
       "0"
      ]
     },
     "execution_count": 16,
     "metadata": {},
     "output_type": "execute_result"
    }
   ],
   "source": [
    "labels.pop()"
   ]
  },
  {
   "cell_type": "code",
   "execution_count": null,
   "metadata": {},
   "outputs": [],
   "source": [
    "[lst[0"
   ]
  },
  {
   "cell_type": "code",
   "execution_count": null,
   "metadata": {
    "id": "HlE-DpeDILDm"
   },
   "outputs": [],
   "source": [
    "train_Ddir=ImageDataGenerator(rescale=1./255)\n",
    "test_Ddir=ImageDataGenerator(rescale=1./255)"
   ]
  },
  {
   "cell_type": "code",
   "execution_count": null,
   "metadata": {
    "id": "b9kX_GW2ILDp",
    "outputId": "40523ef4-aa9f-4127-8ce0-a17600c0fb22"
   },
   "outputs": [
    {
     "name": "stdout",
     "output_type": "stream",
     "text": [
      "Found 5216 images belonging to 2 classes.\n",
      "Found 16 images belonging to 2 classes.\n",
      "Found 624 images belonging to 2 classes.\n"
     ]
    }
   ],
   "source": [
    "train_data=train_Ddir.flow_from_directory(directory='train',\n",
    "                                         batch_size=32,\n",
    "                                         target_size=(img_size,img_size),\n",
    "                                         shuffle=True,\n",
    "                                          class_mode='binary',\n",
    "                                         subset='training')\n",
    "\n",
    "val_data=test_Ddir.flow_from_directory(directory='test',\n",
    "                                           batch_size=32,\n",
    "                                               target_size=(img_size,img_size),                    \n",
    "                                               class_mode='binary')\n",
    "\n",
    "test_data=train_Ddir.flow_from_directory(directory='val',\n",
    "                                           batch_size=32,\n",
    "                                               target_size=(img_size,img_size),                    \n",
    "                                               class_mode='binary')"
   ]
  },
  {
   "cell_type": "code",
   "execution_count": null,
   "metadata": {
    "id": "OB_7z6loILDr"
   },
   "outputs": [],
   "source": [
    "np_clases=np.array(['normal','pnemonia'])"
   ]
  },
  {
   "cell_type": "markdown",
   "metadata": {
    "id": "LB_5EPiUILDs"
   },
   "source": [
    "# TRAIN DATA"
   ]
  },
  {
   "cell_type": "code",
   "execution_count": null,
   "metadata": {
    "id": "6i0y5W2JILDx"
   },
   "outputs": [],
   "source": [
    "def show_batch(image_batch,label_batch):\n",
    "    plt.figure(figsize=(10,10))\n",
    "    for n in range(25):\n",
    "        ax=plt.subplot(5,5,n+1)\n",
    "        plt.imshow(image_batch[n])\n",
    "        #plt.title(np_clases[label_batch[n]==1][0].title())\n",
    "        plt.axis('off')"
   ]
  },
  {
   "cell_type": "code",
   "execution_count": null,
   "metadata": {
    "id": "UpGd8F-hILD0"
   },
   "outputs": [],
   "source": [
    "image_batch,label_batch =next(train_data)\n",
    "show_batch(image_batch,label_batch)"
   ]
  },
  {
   "cell_type": "code",
   "execution_count": null,
   "metadata": {
    "id": "68L6-naMILD1"
   },
   "outputs": [],
   "source": []
  },
  {
   "cell_type": "code",
   "execution_count": null,
   "metadata": {
    "id": "hSu93DYUILD2"
   },
   "outputs": [],
   "source": [
    "train_total=4173\n",
    "val_total=16\n",
    "test_total=624"
   ]
  },
  {
   "cell_type": "code",
   "execution_count": null,
   "metadata": {
    "id": "yB9PnHJxILD3"
   },
   "outputs": [],
   "source": []
  },
  {
   "cell_type": "raw",
   "metadata": {
    "id": "XE1wVdhQILD4"
   },
   "source": []
  },
  {
   "cell_type": "code",
   "execution_count": null,
   "metadata": {
    "id": "EIUTtzf8ILD4"
   },
   "outputs": [],
   "source": [
    "\n"
   ]
  },
  {
   "cell_type": "code",
   "execution_count": 17,
   "metadata": {
    "id": "-Z2hqMxcILD5"
   },
   "outputs": [],
   "source": [
    "from tensorflow.keras.models import Sequential\n",
    "from tensorflow.keras.layers import Conv2D,MaxPooling2D,Dense,Flatten\n",
    "\n",
    "model = tf.keras.Sequential()\n",
    "model.add(Conv2D(32,(3,3),activation='relu',input_shape=(150,150,3)))\n",
    "model.add(MaxPooling2D((2,2)))\n",
    "\n",
    "model.add(Conv2D(64,(3,3),activation='relu'))\n",
    "model.add(MaxPooling2D(2,2))\n",
    "model.add(Conv2D(64,(3,3),activation='relu'))\n",
    "model.add(MaxPooling2D(2,2))\n",
    "\n",
    "model.add(Flatten())\n",
    "model.add(Dense(2,activation='softmax'))"
   ]
  },
  {
   "cell_type": "code",
   "execution_count": null,
   "metadata": {
    "id": "7VK9D1ccILD7"
   },
   "outputs": [],
   "source": []
  },
  {
   "cell_type": "code",
   "execution_count": 18,
   "metadata": {
    "id": "d9xsP-3zILD8"
   },
   "outputs": [],
   "source": [
    "model.compile(optimizer='adam',\n",
    "                       loss='sparse_categorical_crossentropy',\n",
    "                      metrics=['accuracy'])"
   ]
  },
  {
   "cell_type": "code",
   "execution_count": 19,
   "metadata": {
    "id": "VjxocHllILD8"
   },
   "outputs": [
    {
     "name": "stdout",
     "output_type": "stream",
     "text": [
      "Model: \"sequential\"\n",
      "_________________________________________________________________\n",
      "Layer (type)                 Output Shape              Param #   \n",
      "=================================================================\n",
      "conv2d (Conv2D)              (None, 148, 148, 32)      896       \n",
      "_________________________________________________________________\n",
      "max_pooling2d (MaxPooling2D) (None, 74, 74, 32)        0         \n",
      "_________________________________________________________________\n",
      "conv2d_1 (Conv2D)            (None, 72, 72, 64)        18496     \n",
      "_________________________________________________________________\n",
      "max_pooling2d_1 (MaxPooling2 (None, 36, 36, 64)        0         \n",
      "_________________________________________________________________\n",
      "conv2d_2 (Conv2D)            (None, 34, 34, 64)        36928     \n",
      "_________________________________________________________________\n",
      "max_pooling2d_2 (MaxPooling2 (None, 17, 17, 64)        0         \n",
      "_________________________________________________________________\n",
      "flatten (Flatten)            (None, 18496)             0         \n",
      "_________________________________________________________________\n",
      "dense (Dense)                (None, 2)                 36994     \n",
      "=================================================================\n",
      "Total params: 93,314\n",
      "Trainable params: 93,314\n",
      "Non-trainable params: 0\n",
      "_________________________________________________________________\n"
     ]
    }
   ],
   "source": [
    "model.summary()"
   ]
  },
  {
   "cell_type": "code",
   "execution_count": 20,
   "metadata": {
    "colab": {
     "base_uri": "https://localhost:8080/",
     "height": 504
    },
    "executionInfo": {
     "elapsed": 851,
     "status": "error",
     "timestamp": 1648062865415,
     "user": {
      "displayName": "BADRI SYAM SIVA KUMAR BADRI SYAM SIVA KUMAR",
      "photoUrl": "https://lh3.googleusercontent.com/a-/AOh14GgEJDSNy8_0YWmLBLxbQqj7tJlbl-pMNNqOCiZueA=s64",
      "userId": "00051195894396766943"
     },
     "user_tz": -330
    },
    "id": "iG8HTID6ILD-",
    "outputId": "99e7d46d-2497-4ff4-e6a8-0f5d8bcbd1e4",
    "scrolled": true
   },
   "outputs": [
    {
     "name": "stdout",
     "output_type": "stream",
     "text": [
      "Epoch 1/10\n",
      "243/243 [==============================] - 143s 588ms/step - loss: 3.3059 - accuracy: 0.9173\n",
      "Epoch 2/10\n",
      "243/243 [==============================] - 153s 628ms/step - loss: 0.0740 - accuracy: 0.9733\n",
      "Epoch 3/10\n",
      "243/243 [==============================] - 152s 623ms/step - loss: 0.0570 - accuracy: 0.9818\n",
      "Epoch 4/10\n",
      "243/243 [==============================] - 144s 594ms/step - loss: 0.0768 - accuracy: 0.9732\n",
      "Epoch 5/10\n",
      "243/243 [==============================] - 144s 591ms/step - loss: 0.0427 - accuracy: 0.9857\n",
      "Epoch 6/10\n",
      "243/243 [==============================] - 144s 594ms/step - loss: 0.0514 - accuracy: 0.9832\n",
      "Epoch 7/10\n",
      "243/243 [==============================] - 144s 592ms/step - loss: 0.0392 - accuracy: 0.9866\n",
      "Epoch 8/10\n",
      "243/243 [==============================] - 145s 598ms/step - loss: 0.0254 - accuracy: 0.9915\n",
      "Epoch 9/10\n",
      "243/243 [==============================] - 150s 616ms/step - loss: 0.0227 - accuracy: 0.9917\n",
      "Epoch 10/10\n",
      "243/243 [==============================] - 143s 588ms/step - loss: 0.0275 - accuracy: 0.9910\n"
     ]
    }
   ],
   "source": [
    "Epoch = 10\n",
    "history=model.fit(\n",
    "    np.array(images),np.array(labels),\n",
    "    epochs=Epoch,\n",
    "    validation_data=()\n",
    ")"
   ]
  },
  {
   "cell_type": "code",
   "execution_count": 21,
   "metadata": {},
   "outputs": [],
   "source": [
    "x_test=[]\n",
    "y_test=[]"
   ]
  },
  {
   "cell_type": "code",
   "execution_count": 25,
   "metadata": {
    "id": "g3Of_zFuILEA"
   },
   "outputs": [],
   "source": [
    "classes=os.listdir('test/NORMAL')\n"
   ]
  },
  {
   "cell_type": "code",
   "execution_count": null,
   "metadata": {
    "id": "4qt8ubgaILEB",
    "outputId": "02c1cb4e-d3ba-43aa-e62a-e48c1ac1b143"
   },
   "outputs": [],
   "source": [
    "y,n = 1,0\n",
    "dim=(150,150)\n",
    "for i in classes:\n",
    "    print('test/NORMAL/'+i)\n",
    "    #cv2.imshow('train/PNEUMONIA/'+classes[i])\n",
    "    img = cv2.imread('test/NORMAL/'+i)\n",
    "    #print(img)\n",
    "    #print(img) \n",
    "  # print(path) \n",
    "    img1 = cv2.resize(img,dim)\n",
    "    x_test.append(img1)\n",
    "    y_test.append(n)"
   ]
  },
  {
   "cell_type": "code",
   "execution_count": 28,
   "metadata": {},
   "outputs": [
    {
     "name": "stdout",
     "output_type": "stream",
     "text": [
      "234 390\n"
     ]
    }
   ],
   "source": [
    "print(y_test.count(0), y_test.count(1))"
   ]
  },
  {
   "cell_type": "code",
   "execution_count": 31,
   "metadata": {
    "id": "sWVJcJUwILEB"
   },
   "outputs": [
    {
     "name": "stdout",
     "output_type": "stream",
     "text": [
      "20/20 [==============================] - 3s 123ms/step - loss: 2.3878 - accuracy: 0.7516\n"
     ]
    },
    {
     "data": {
      "text/plain": [
       "[2.3877875804901123, 0.7516025900840759]"
      ]
     },
     "execution_count": 31,
     "metadata": {},
     "output_type": "execute_result"
    }
   ],
   "source": [
    "model.evaluate(np.array(x_test),np.array(y_test))"
   ]
  }
 ],
 "metadata": {
  "colab": {
   "name": "pnemonia.ipynb",
   "provenance": []
  },
  "kernelspec": {
   "display_name": "Python 3",
   "language": "python",
   "name": "python3"
  },
  "language_info": {
   "codemirror_mode": {
    "name": "ipython",
    "version": 3
   },
   "file_extension": ".py",
   "mimetype": "text/x-python",
   "name": "python",
   "nbconvert_exporter": "python",
   "pygments_lexer": "ipython3",
   "version": "3.6.13"
  }
 },
 "nbformat": 4,
 "nbformat_minor": 4
}
